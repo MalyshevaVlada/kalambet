{
  "nbformat": 4,
  "nbformat_minor": 0,
  "metadata": {
    "colab": {
      "provenance": [],
      "mount_file_id": "11oq5z8efrI23pcJQXEMvwYhCgypU1uTq",
      "authorship_tag": "ABX9TyNplUGJmrdqJZRQ7SiFYnG7",
      "include_colab_link": true
    },
    "kernelspec": {
      "name": "python3",
      "display_name": "Python 3"
    },
    "language_info": {
      "name": "python"
    }
  },
  "cells": [
    {
      "cell_type": "markdown",
      "metadata": {
        "id": "view-in-github",
        "colab_type": "text"
      },
      "source": [
        "<a href=\"https://colab.research.google.com/github/MalyshevaVlada/kalambet/blob/main/%D1%86%D0%B2%D0%B5%D1%82%D0%BE%D1%87%D0%B5%D0%BA.ipynb\" target=\"_parent\"><img src=\"https://colab.research.google.com/assets/colab-badge.svg\" alt=\"Open In Colab\"/></a>"
      ]
    },
    {
      "cell_type": "markdown",
      "source": [
        "# **Обработка файла**<br>\n",
        "---\n",
        "Сложность: Легко\n",
        "\n",
        "---\n",
        "\n",
        "\n",
        "У Вас имеется файл с ФИО и номерами телефонов <br>\n",
        "[Ссылка на скачивание файла](https://drive.google.com/file/d/1ZFZTu3Bd1VdsKQ0_Mke8ARJIyhmewfyy/view?usp=sharing) <br>\n",
        "Название файла - **'data_fio_number_sepped.txt'** <br>\n",
        "Необходимо создать отдельный файл для каждой записи\n",
        "вида user_{?}.txt <br>(на месте вопроса необходимо указать фамилию используя транслитератор) или порядковый номер<br>\n",
        "В файл записать ФИО и номер телефона в две строке (первая - ФИО, вторая - номер телефона)<br>\n",
        "**В номере телефона удалить лишние символы, оставить тольфо цифры**<br>\n",
        "По завершению создания файлов - вывести результат сколько файлов было сгенерированно.\n",
        "\n"
      ],
      "metadata": {
        "id": "fzYLP_37n4UH"
      }
    },
    {
      "cell_type": "markdown",
      "source": [
        "***Установка и импорт***\n",
        "\n"
      ],
      "metadata": {
        "id": "Kv0SeY21n3Ec"
      }
    },
    {
      "cell_type": "code",
      "source": [
        "# установка и импорт необходимого\n",
        "!pip install transliterate &> /dev/null\n",
        "\n",
        "from transliterate import translit\n",
        "from pickle import FALSE"
      ],
      "metadata": {
        "id": "WhWWGbeLvsEg"
      },
      "execution_count": null,
      "outputs": []
    },
    {
      "cell_type": "markdown",
      "source": [
        "***Функции***"
      ],
      "metadata": {
        "id": "HWQ4vGT8n_KR"
      }
    },
    {
      "cell_type": "code",
      "source": [
        "# функция для создания названий файла (user_фамилия.txt)\n",
        "def create_name_file(list_data):\n",
        "  return [\"user_\" + translit(last_name.split()[0], reversed=True) + \".txt\" for last_name in list_data]\n",
        "\n",
        "\n",
        "# функция для взятия ФИО из строки\n",
        "def take_full_name(string):\n",
        "  return string.split(';')[0]\n",
        "\n",
        "\n",
        "# функция для взятия из строки телефона и редактирования (8(560)093-38-76 -> 85600933876)\n",
        "def phone_editing(string):\n",
        "  string = \"\".join(char for char in string if char.isdecimal())\n",
        "  return string"
      ],
      "metadata": {
        "id": "IS4nmbJeoDfY"
      },
      "execution_count": null,
      "outputs": []
    },
    {
      "cell_type": "markdown",
      "source": [
        "***переменные***"
      ],
      "metadata": {
        "id": "c8pbZfoStJdK"
      }
    },
    {
      "cell_type": "code",
      "source": [
        "list_data_from_file = []\n",
        "list_of_namе_files = []"
      ],
      "metadata": {
        "id": "eZ1RwysutIlT"
      },
      "execution_count": null,
      "outputs": []
    },
    {
      "cell_type": "markdown",
      "source": [
        "***программа***\n",
        "\n"
      ],
      "metadata": {
        "id": "e8qDqgIUshBk"
      }
    },
    {
      "cell_type": "code",
      "source": [
        "# читаем файлик с исходными данными в список и создаем список с 'user_lastname.txt'\n",
        "with open('data_fio_number_sepped.txt', 'r') as File:\n",
        "  list_data_from_file = [line[:-1] for line in File]\n",
        "  list_of_namе_files = create_name_file(list_data_from_file)\n",
        "\n",
        "# записываем в 'user_lastname.txt' данные о юсере\n",
        "for id, name_file in enumerate(list_of_namе_files):\n",
        "  with open(name_file, 'w') as File:\n",
        "    list_data_from_file[id] = take_full_name(list_data_from_file[id]) + '\\n' + phone_editing(list_data_from_file[id])\n",
        "    File.write(list_data_from_file[id])\n",
        "\n",
        "\n",
        "print(f\"Created: {len(list_of_namе_files)} files\")"
      ],
      "metadata": {
        "colab": {
          "base_uri": "https://localhost:8080/"
        },
        "id": "d0N07G5hvs-Y",
        "outputId": "8f287985-88eb-4358-fac5-7f141d5862c1"
      },
      "execution_count": null,
      "outputs": [
        {
          "output_type": "stream",
          "name": "stdout",
          "text": [
            "Created: 51 files\n"
          ]
        }
      ]
    },
    {
      "cell_type": "markdown",
      "source": [
        "***мусор***"
      ],
      "metadata": {
        "id": "JkIwdQt0vfpD"
      }
    },
    {
      "cell_type": "code",
      "source": [
        "import pandas as pd\n",
        "\n",
        "list_fullname = []\n",
        "list_phone_number = []\n",
        "\n",
        "for string in list_data_from_file:\n",
        "  list_fullname.append(take_full_name(string).split('\\n')[0])\n",
        "  list_phone_number.append(phone_editing(string))\n",
        "\n",
        "df=pd.DataFrame({\n",
        "    \"название файла\": list_of_namе_files,\n",
        "    \"ФИО\": list_fullname,\n",
        "    \"телефон\": list_phone_number\n",
        "})\n",
        "\n",
        "df"
      ],
      "metadata": {
        "colab": {
          "base_uri": "https://localhost:8080/",
          "height": 1000
        },
        "id": "pwl4YlimxH9p",
        "outputId": "927918f0-5df7-4881-93e4-9bbcbe32f9ca"
      },
      "execution_count": null,
      "outputs": [
        {
          "output_type": "execute_result",
          "data": {
            "text/plain": [
              "            название файла                             ФИО       телефон\n",
              "0       user_Molchanov.txt    Молчанов Евгений Даниэльевич   85600933876\n",
              "1       user_Andrianov.txt      Андрианов Фёдор Михайлович   83615671522\n",
              "2           user_Levin.txt           Левин Глеб Дмитриевич   87663128821\n",
              "3        user_Platonov.txt       Платонов Роман Даниилович  824218455620\n",
              "4           user_Popov.txt          Попов Тимур Дмитриевич    8922550126\n",
              "5        user_Mihajlov.txt   Михайлов Даниил Владиславович   83932405936\n",
              "6         user_Ivanova.txt       Иванова Таисия Кирилловна    8116787089\n",
              "7         user_Kovalev.txt          Ковалев Глеб Романович  805416810752\n",
              "8           user_Kozin.txt            Козин Артём Павлович  803491082659\n",
              "9      user_Postnikova.txt     Постникова Софья Алексеевна   83029383550\n",
              "10       user_Trifonov.txt         Трифонов Адам Сергеевич   87113127614\n",
              "11        user_Kozyrev.txt       Козырев Тимофей Андреевич  813070220559\n",
              "12         user_Bykova.txt    Быкова Александра Алексеевна  843498659881\n",
              "13    user_Ovsjannikov.txt       Овсянников Роман Маркович    8671444523\n",
              "14        user_Volkova.txt  Волкова Анастасия Владимировна   84652586835\n",
              "15          user_Sedov.txt          Седов Тихон Георгиевич    8121062229\n",
              "16        user_Eliseev.txt          Елисеев Илья Матвеевич   84490125680\n",
              "17        user_Korolev.txt        Королев Назар Кириллович   80554826044\n",
              "18        user_Danilov.txt       Данилов Владимир Адамович    8517342892\n",
              "19       user_Sorokina.txt      Сорокина Марьям Дмитриевна  894947568115\n",
              "20        user_Korolev.txt         Королев Семён Фёдорович   80823728866\n",
              "21         user_Demina.txt           Демина Анна Ильинична    8099169653\n",
              "22        user_Tsareva.txt     Царева Екатерина Витальевна  838325756676\n",
              "23       user_Kovaleva.txt    Ковалева Ирина Александровна  849824464466\n",
              "24          user_Popov.txt          Попов Леонид Артёмович    8528917237\n",
              "25          user_Larin.txt        Ларин Алексей Дмитриевич   82937695947\n",
              "26      user_Alekseeva.txt       Алексеева Анна Михайловна  812471640575\n",
              "27      user_Malysheva.txt            Малышева Ева Львовна  822379932621\n",
              "28       user_Vorob'ev.txt     Воробьев Давид Владимирович  803172960977\n",
              "29      user_Alekseeva.txt      Алексеева Евгения Павловна   88222566255\n",
              "30        user_Miheeva.txt          Михеева Зоя Михайловна    8981971389\n",
              "31      user_Il'inskij.txt    Ильинский Григорий Матвеевич   81828083815\n",
              "32       user_Soboleva.txt    Соболева Анастасия Романовна    8309345633\n",
              "33        user_Zaharov.txt     Захаров Александр Матвеевич   85226161354\n",
              "34      user_Martynova.txt       Мартынова Ирина Андреевна   84432435844\n",
              "35        user_Petrova.txt    Петрова Анастасия Максимовна  888246979255\n",
              "36  user_Mescherjakova.txt  Мещерякова Виктория Савельевна   81771216688\n",
              "37     user_Gerasimova.txt      Герасимова Амина Артёмовна    8145864798\n",
              "38       user_Belikova.txt     Беликова Анна Александровна  867752044821\n",
              "39      user_Kirillova.txt       Кириллова София Сергеевна  842504138097\n",
              "40    user_Rumjantseva.txt     Румянцева Евгения Артёмовна  834713919930\n",
              "41         user_Ivanov.txt           Иванов Андрей Никитич   87868014138\n",
              "42      user_Parfenova.txt       Парфенова Алёна Артёмовна    8675418999\n",
              "43        user_Galkina.txt         Галкина Анна Дмитриевна    8392882351\n",
              "44          user_Larin.txt        Ларин Тимофей Михайлович  859061924597\n",
              "45        user_Petrova.txt        Петрова Мария Максимовна    8493897181\n",
              "46       user_Makarova.txt        Макарова Мария Романовна   87076801717\n",
              "47       user_Nikolaev.txt          Николаев Илья Егорович    8276334584\n",
              "48       user_Fedoseev.txt     Федосеев Артемий Даниилович   82244319016\n",
              "49    user_Ovchinnikov.txt  Овчинников Дмитрий Григорьевич    8748236464\n",
              "50        user_Anan'ev.txt        Ананьев Артём Богданович  828170172422"
            ],
            "text/html": [
              "\n",
              "  <div id=\"df-459dba2b-92b3-4fd7-b5a1-1aeb416a272d\">\n",
              "    <div class=\"colab-df-container\">\n",
              "      <div>\n",
              "<style scoped>\n",
              "    .dataframe tbody tr th:only-of-type {\n",
              "        vertical-align: middle;\n",
              "    }\n",
              "\n",
              "    .dataframe tbody tr th {\n",
              "        vertical-align: top;\n",
              "    }\n",
              "\n",
              "    .dataframe thead th {\n",
              "        text-align: right;\n",
              "    }\n",
              "</style>\n",
              "<table border=\"1\" class=\"dataframe\">\n",
              "  <thead>\n",
              "    <tr style=\"text-align: right;\">\n",
              "      <th></th>\n",
              "      <th>название файла</th>\n",
              "      <th>ФИО</th>\n",
              "      <th>телефон</th>\n",
              "    </tr>\n",
              "  </thead>\n",
              "  <tbody>\n",
              "    <tr>\n",
              "      <th>0</th>\n",
              "      <td>user_Molchanov.txt</td>\n",
              "      <td>Молчанов Евгений Даниэльевич</td>\n",
              "      <td>85600933876</td>\n",
              "    </tr>\n",
              "    <tr>\n",
              "      <th>1</th>\n",
              "      <td>user_Andrianov.txt</td>\n",
              "      <td>Андрианов Фёдор Михайлович</td>\n",
              "      <td>83615671522</td>\n",
              "    </tr>\n",
              "    <tr>\n",
              "      <th>2</th>\n",
              "      <td>user_Levin.txt</td>\n",
              "      <td>Левин Глеб Дмитриевич</td>\n",
              "      <td>87663128821</td>\n",
              "    </tr>\n",
              "    <tr>\n",
              "      <th>3</th>\n",
              "      <td>user_Platonov.txt</td>\n",
              "      <td>Платонов Роман Даниилович</td>\n",
              "      <td>824218455620</td>\n",
              "    </tr>\n",
              "    <tr>\n",
              "      <th>4</th>\n",
              "      <td>user_Popov.txt</td>\n",
              "      <td>Попов Тимур Дмитриевич</td>\n",
              "      <td>8922550126</td>\n",
              "    </tr>\n",
              "    <tr>\n",
              "      <th>5</th>\n",
              "      <td>user_Mihajlov.txt</td>\n",
              "      <td>Михайлов Даниил Владиславович</td>\n",
              "      <td>83932405936</td>\n",
              "    </tr>\n",
              "    <tr>\n",
              "      <th>6</th>\n",
              "      <td>user_Ivanova.txt</td>\n",
              "      <td>Иванова Таисия Кирилловна</td>\n",
              "      <td>8116787089</td>\n",
              "    </tr>\n",
              "    <tr>\n",
              "      <th>7</th>\n",
              "      <td>user_Kovalev.txt</td>\n",
              "      <td>Ковалев Глеб Романович</td>\n",
              "      <td>805416810752</td>\n",
              "    </tr>\n",
              "    <tr>\n",
              "      <th>8</th>\n",
              "      <td>user_Kozin.txt</td>\n",
              "      <td>Козин Артём Павлович</td>\n",
              "      <td>803491082659</td>\n",
              "    </tr>\n",
              "    <tr>\n",
              "      <th>9</th>\n",
              "      <td>user_Postnikova.txt</td>\n",
              "      <td>Постникова Софья Алексеевна</td>\n",
              "      <td>83029383550</td>\n",
              "    </tr>\n",
              "    <tr>\n",
              "      <th>10</th>\n",
              "      <td>user_Trifonov.txt</td>\n",
              "      <td>Трифонов Адам Сергеевич</td>\n",
              "      <td>87113127614</td>\n",
              "    </tr>\n",
              "    <tr>\n",
              "      <th>11</th>\n",
              "      <td>user_Kozyrev.txt</td>\n",
              "      <td>Козырев Тимофей Андреевич</td>\n",
              "      <td>813070220559</td>\n",
              "    </tr>\n",
              "    <tr>\n",
              "      <th>12</th>\n",
              "      <td>user_Bykova.txt</td>\n",
              "      <td>Быкова Александра Алексеевна</td>\n",
              "      <td>843498659881</td>\n",
              "    </tr>\n",
              "    <tr>\n",
              "      <th>13</th>\n",
              "      <td>user_Ovsjannikov.txt</td>\n",
              "      <td>Овсянников Роман Маркович</td>\n",
              "      <td>8671444523</td>\n",
              "    </tr>\n",
              "    <tr>\n",
              "      <th>14</th>\n",
              "      <td>user_Volkova.txt</td>\n",
              "      <td>Волкова Анастасия Владимировна</td>\n",
              "      <td>84652586835</td>\n",
              "    </tr>\n",
              "    <tr>\n",
              "      <th>15</th>\n",
              "      <td>user_Sedov.txt</td>\n",
              "      <td>Седов Тихон Георгиевич</td>\n",
              "      <td>8121062229</td>\n",
              "    </tr>\n",
              "    <tr>\n",
              "      <th>16</th>\n",
              "      <td>user_Eliseev.txt</td>\n",
              "      <td>Елисеев Илья Матвеевич</td>\n",
              "      <td>84490125680</td>\n",
              "    </tr>\n",
              "    <tr>\n",
              "      <th>17</th>\n",
              "      <td>user_Korolev.txt</td>\n",
              "      <td>Королев Назар Кириллович</td>\n",
              "      <td>80554826044</td>\n",
              "    </tr>\n",
              "    <tr>\n",
              "      <th>18</th>\n",
              "      <td>user_Danilov.txt</td>\n",
              "      <td>Данилов Владимир Адамович</td>\n",
              "      <td>8517342892</td>\n",
              "    </tr>\n",
              "    <tr>\n",
              "      <th>19</th>\n",
              "      <td>user_Sorokina.txt</td>\n",
              "      <td>Сорокина Марьям Дмитриевна</td>\n",
              "      <td>894947568115</td>\n",
              "    </tr>\n",
              "    <tr>\n",
              "      <th>20</th>\n",
              "      <td>user_Korolev.txt</td>\n",
              "      <td>Королев Семён Фёдорович</td>\n",
              "      <td>80823728866</td>\n",
              "    </tr>\n",
              "    <tr>\n",
              "      <th>21</th>\n",
              "      <td>user_Demina.txt</td>\n",
              "      <td>Демина Анна Ильинична</td>\n",
              "      <td>8099169653</td>\n",
              "    </tr>\n",
              "    <tr>\n",
              "      <th>22</th>\n",
              "      <td>user_Tsareva.txt</td>\n",
              "      <td>Царева Екатерина Витальевна</td>\n",
              "      <td>838325756676</td>\n",
              "    </tr>\n",
              "    <tr>\n",
              "      <th>23</th>\n",
              "      <td>user_Kovaleva.txt</td>\n",
              "      <td>Ковалева Ирина Александровна</td>\n",
              "      <td>849824464466</td>\n",
              "    </tr>\n",
              "    <tr>\n",
              "      <th>24</th>\n",
              "      <td>user_Popov.txt</td>\n",
              "      <td>Попов Леонид Артёмович</td>\n",
              "      <td>8528917237</td>\n",
              "    </tr>\n",
              "    <tr>\n",
              "      <th>25</th>\n",
              "      <td>user_Larin.txt</td>\n",
              "      <td>Ларин Алексей Дмитриевич</td>\n",
              "      <td>82937695947</td>\n",
              "    </tr>\n",
              "    <tr>\n",
              "      <th>26</th>\n",
              "      <td>user_Alekseeva.txt</td>\n",
              "      <td>Алексеева Анна Михайловна</td>\n",
              "      <td>812471640575</td>\n",
              "    </tr>\n",
              "    <tr>\n",
              "      <th>27</th>\n",
              "      <td>user_Malysheva.txt</td>\n",
              "      <td>Малышева Ева Львовна</td>\n",
              "      <td>822379932621</td>\n",
              "    </tr>\n",
              "    <tr>\n",
              "      <th>28</th>\n",
              "      <td>user_Vorob'ev.txt</td>\n",
              "      <td>Воробьев Давид Владимирович</td>\n",
              "      <td>803172960977</td>\n",
              "    </tr>\n",
              "    <tr>\n",
              "      <th>29</th>\n",
              "      <td>user_Alekseeva.txt</td>\n",
              "      <td>Алексеева Евгения Павловна</td>\n",
              "      <td>88222566255</td>\n",
              "    </tr>\n",
              "    <tr>\n",
              "      <th>30</th>\n",
              "      <td>user_Miheeva.txt</td>\n",
              "      <td>Михеева Зоя Михайловна</td>\n",
              "      <td>8981971389</td>\n",
              "    </tr>\n",
              "    <tr>\n",
              "      <th>31</th>\n",
              "      <td>user_Il'inskij.txt</td>\n",
              "      <td>Ильинский Григорий Матвеевич</td>\n",
              "      <td>81828083815</td>\n",
              "    </tr>\n",
              "    <tr>\n",
              "      <th>32</th>\n",
              "      <td>user_Soboleva.txt</td>\n",
              "      <td>Соболева Анастасия Романовна</td>\n",
              "      <td>8309345633</td>\n",
              "    </tr>\n",
              "    <tr>\n",
              "      <th>33</th>\n",
              "      <td>user_Zaharov.txt</td>\n",
              "      <td>Захаров Александр Матвеевич</td>\n",
              "      <td>85226161354</td>\n",
              "    </tr>\n",
              "    <tr>\n",
              "      <th>34</th>\n",
              "      <td>user_Martynova.txt</td>\n",
              "      <td>Мартынова Ирина Андреевна</td>\n",
              "      <td>84432435844</td>\n",
              "    </tr>\n",
              "    <tr>\n",
              "      <th>35</th>\n",
              "      <td>user_Petrova.txt</td>\n",
              "      <td>Петрова Анастасия Максимовна</td>\n",
              "      <td>888246979255</td>\n",
              "    </tr>\n",
              "    <tr>\n",
              "      <th>36</th>\n",
              "      <td>user_Mescherjakova.txt</td>\n",
              "      <td>Мещерякова Виктория Савельевна</td>\n",
              "      <td>81771216688</td>\n",
              "    </tr>\n",
              "    <tr>\n",
              "      <th>37</th>\n",
              "      <td>user_Gerasimova.txt</td>\n",
              "      <td>Герасимова Амина Артёмовна</td>\n",
              "      <td>8145864798</td>\n",
              "    </tr>\n",
              "    <tr>\n",
              "      <th>38</th>\n",
              "      <td>user_Belikova.txt</td>\n",
              "      <td>Беликова Анна Александровна</td>\n",
              "      <td>867752044821</td>\n",
              "    </tr>\n",
              "    <tr>\n",
              "      <th>39</th>\n",
              "      <td>user_Kirillova.txt</td>\n",
              "      <td>Кириллова София Сергеевна</td>\n",
              "      <td>842504138097</td>\n",
              "    </tr>\n",
              "    <tr>\n",
              "      <th>40</th>\n",
              "      <td>user_Rumjantseva.txt</td>\n",
              "      <td>Румянцева Евгения Артёмовна</td>\n",
              "      <td>834713919930</td>\n",
              "    </tr>\n",
              "    <tr>\n",
              "      <th>41</th>\n",
              "      <td>user_Ivanov.txt</td>\n",
              "      <td>Иванов Андрей Никитич</td>\n",
              "      <td>87868014138</td>\n",
              "    </tr>\n",
              "    <tr>\n",
              "      <th>42</th>\n",
              "      <td>user_Parfenova.txt</td>\n",
              "      <td>Парфенова Алёна Артёмовна</td>\n",
              "      <td>8675418999</td>\n",
              "    </tr>\n",
              "    <tr>\n",
              "      <th>43</th>\n",
              "      <td>user_Galkina.txt</td>\n",
              "      <td>Галкина Анна Дмитриевна</td>\n",
              "      <td>8392882351</td>\n",
              "    </tr>\n",
              "    <tr>\n",
              "      <th>44</th>\n",
              "      <td>user_Larin.txt</td>\n",
              "      <td>Ларин Тимофей Михайлович</td>\n",
              "      <td>859061924597</td>\n",
              "    </tr>\n",
              "    <tr>\n",
              "      <th>45</th>\n",
              "      <td>user_Petrova.txt</td>\n",
              "      <td>Петрова Мария Максимовна</td>\n",
              "      <td>8493897181</td>\n",
              "    </tr>\n",
              "    <tr>\n",
              "      <th>46</th>\n",
              "      <td>user_Makarova.txt</td>\n",
              "      <td>Макарова Мария Романовна</td>\n",
              "      <td>87076801717</td>\n",
              "    </tr>\n",
              "    <tr>\n",
              "      <th>47</th>\n",
              "      <td>user_Nikolaev.txt</td>\n",
              "      <td>Николаев Илья Егорович</td>\n",
              "      <td>8276334584</td>\n",
              "    </tr>\n",
              "    <tr>\n",
              "      <th>48</th>\n",
              "      <td>user_Fedoseev.txt</td>\n",
              "      <td>Федосеев Артемий Даниилович</td>\n",
              "      <td>82244319016</td>\n",
              "    </tr>\n",
              "    <tr>\n",
              "      <th>49</th>\n",
              "      <td>user_Ovchinnikov.txt</td>\n",
              "      <td>Овчинников Дмитрий Григорьевич</td>\n",
              "      <td>8748236464</td>\n",
              "    </tr>\n",
              "    <tr>\n",
              "      <th>50</th>\n",
              "      <td>user_Anan'ev.txt</td>\n",
              "      <td>Ананьев Артём Богданович</td>\n",
              "      <td>828170172422</td>\n",
              "    </tr>\n",
              "  </tbody>\n",
              "</table>\n",
              "</div>\n",
              "      <button class=\"colab-df-convert\" onclick=\"convertToInteractive('df-459dba2b-92b3-4fd7-b5a1-1aeb416a272d')\"\n",
              "              title=\"Convert this dataframe to an interactive table.\"\n",
              "              style=\"display:none;\">\n",
              "        \n",
              "  <svg xmlns=\"http://www.w3.org/2000/svg\" height=\"24px\"viewBox=\"0 0 24 24\"\n",
              "       width=\"24px\">\n",
              "    <path d=\"M0 0h24v24H0V0z\" fill=\"none\"/>\n",
              "    <path d=\"M18.56 5.44l.94 2.06.94-2.06 2.06-.94-2.06-.94-.94-2.06-.94 2.06-2.06.94zm-11 1L8.5 8.5l.94-2.06 2.06-.94-2.06-.94L8.5 2.5l-.94 2.06-2.06.94zm10 10l.94 2.06.94-2.06 2.06-.94-2.06-.94-.94-2.06-.94 2.06-2.06.94z\"/><path d=\"M17.41 7.96l-1.37-1.37c-.4-.4-.92-.59-1.43-.59-.52 0-1.04.2-1.43.59L10.3 9.45l-7.72 7.72c-.78.78-.78 2.05 0 2.83L4 21.41c.39.39.9.59 1.41.59.51 0 1.02-.2 1.41-.59l7.78-7.78 2.81-2.81c.8-.78.8-2.07 0-2.86zM5.41 20L4 18.59l7.72-7.72 1.47 1.35L5.41 20z\"/>\n",
              "  </svg>\n",
              "      </button>\n",
              "      \n",
              "  <style>\n",
              "    .colab-df-container {\n",
              "      display:flex;\n",
              "      flex-wrap:wrap;\n",
              "      gap: 12px;\n",
              "    }\n",
              "\n",
              "    .colab-df-convert {\n",
              "      background-color: #E8F0FE;\n",
              "      border: none;\n",
              "      border-radius: 50%;\n",
              "      cursor: pointer;\n",
              "      display: none;\n",
              "      fill: #1967D2;\n",
              "      height: 32px;\n",
              "      padding: 0 0 0 0;\n",
              "      width: 32px;\n",
              "    }\n",
              "\n",
              "    .colab-df-convert:hover {\n",
              "      background-color: #E2EBFA;\n",
              "      box-shadow: 0px 1px 2px rgba(60, 64, 67, 0.3), 0px 1px 3px 1px rgba(60, 64, 67, 0.15);\n",
              "      fill: #174EA6;\n",
              "    }\n",
              "\n",
              "    [theme=dark] .colab-df-convert {\n",
              "      background-color: #3B4455;\n",
              "      fill: #D2E3FC;\n",
              "    }\n",
              "\n",
              "    [theme=dark] .colab-df-convert:hover {\n",
              "      background-color: #434B5C;\n",
              "      box-shadow: 0px 1px 3px 1px rgba(0, 0, 0, 0.15);\n",
              "      filter: drop-shadow(0px 1px 2px rgba(0, 0, 0, 0.3));\n",
              "      fill: #FFFFFF;\n",
              "    }\n",
              "  </style>\n",
              "\n",
              "      <script>\n",
              "        const buttonEl =\n",
              "          document.querySelector('#df-459dba2b-92b3-4fd7-b5a1-1aeb416a272d button.colab-df-convert');\n",
              "        buttonEl.style.display =\n",
              "          google.colab.kernel.accessAllowed ? 'block' : 'none';\n",
              "\n",
              "        async function convertToInteractive(key) {\n",
              "          const element = document.querySelector('#df-459dba2b-92b3-4fd7-b5a1-1aeb416a272d');\n",
              "          const dataTable =\n",
              "            await google.colab.kernel.invokeFunction('convertToInteractive',\n",
              "                                                     [key], {});\n",
              "          if (!dataTable) return;\n",
              "\n",
              "          const docLinkHtml = 'Like what you see? Visit the ' +\n",
              "            '<a target=\"_blank\" href=https://colab.research.google.com/notebooks/data_table.ipynb>data table notebook</a>'\n",
              "            + ' to learn more about interactive tables.';\n",
              "          element.innerHTML = '';\n",
              "          dataTable['output_type'] = 'display_data';\n",
              "          await google.colab.output.renderOutput(dataTable, element);\n",
              "          const docLink = document.createElement('div');\n",
              "          docLink.innerHTML = docLinkHtml;\n",
              "          element.appendChild(docLink);\n",
              "        }\n",
              "      </script>\n",
              "    </div>\n",
              "  </div>\n",
              "  "
            ]
          },
          "metadata": {},
          "execution_count": 33
        }
      ]
    },
    {
      "cell_type": "markdown",
      "source": [
        "***Установка и импорт***\n",
        "\n"
      ],
      "metadata": {
        "id": "SppFY1yHwIRm"
      }
    },
    {
      "cell_type": "code",
      "source": [
        "%%bash\n",
        "apt update &> /dev/null\n",
        "apt install chromium-chromedriver &> /dev/null\n",
        "pip install selenium &> /dev/null"
      ],
      "metadata": {
        "id": "fVjuofMYut3u"
      },
      "execution_count": null,
      "outputs": []
    },
    {
      "cell_type": "code",
      "source": [
        "from selenium import webdriver\n",
        "from selenium.webdriver.common.keys import Keys\n",
        "from selenium.webdriver.common.by import By"
      ],
      "metadata": {
        "id": "wby4DvMd2ZLd"
      },
      "execution_count": null,
      "outputs": []
    },
    {
      "cell_type": "code",
      "source": [
        "options = webdriver.ChromeOptions()\n",
        "options.add_argument('--headless')\n",
        "options.add_argument('--no-sandbox')\n",
        "options.add_argument('window-size=1400,800')\n",
        "options.add_argument('user-agent=Mozilla/5.0 (Windows NT 10.0; Win64; x64) AppleWebKit/537.36 (KHTML, like Gecko) Chrome/96.0.4664.45 Safari/537.36')"
      ],
      "metadata": {
        "id": "NBGcw-ttwMDP"
      },
      "execution_count": null,
      "outputs": []
    },
    {
      "cell_type": "markdown",
      "source": [
        "***Функции***"
      ],
      "metadata": {
        "id": "JFDmG-qR3mgX"
      }
    },
    {
      "cell_type": "code",
      "source": [
        "# функция для создания названий файла (tourism_news_number.txt)\n",
        "def create_name_file(list_news):\n",
        "  return [f\"tourism_news_{i}.txt\" for i in range(len(list_news))]\n",
        "\n",
        "#"
      ],
      "metadata": {
        "id": "9FrtdqSc3nzv"
      },
      "execution_count": null,
      "outputs": []
    },
    {
      "cell_type": "markdown",
      "source": [
        "***переменные***"
      ],
      "metadata": {
        "id": "yWoAUL9c3dpI"
      }
    },
    {
      "cell_type": "code",
      "source": [
        "list_name_file = []\n",
        "\n",
        "list_news_headline = []\n",
        "list_href_on_photo = []\n",
        "list_data_and_time = []\n",
        "list_text_news = []"
      ],
      "metadata": {
        "id": "klm3Fc3Twbbv"
      },
      "execution_count": null,
      "outputs": []
    },
    {
      "cell_type": "markdown",
      "source": [
        "# **Парсинг**<br>\n",
        "---\n",
        "Сложность: Легко\n",
        "\n",
        "---\n",
        "Необходимо собрать новости с раздела сайта https://ria.ru/tourism/<br>\n",
        "блок новостей - \"Важное\"<br>\n",
        "Для каждой новости создать отдельный файл. <br>В файле должно быть в первой строке название новости, во второй строке ссылка на изображение, в третьей строке - дата и время, далее текст новости. Файлы должны называться вида:<br> 'tourism_news_1.txt', 'tourism_news_2.txt' и тд.<br>\n",
        "Номинальное количество новостей - 4"
      ],
      "metadata": {
        "id": "D-DaQ-eCoW7g"
      }
    },
    {
      "cell_type": "markdown",
      "source": [
        "***программа***\n",
        "\n"
      ],
      "metadata": {
        "id": "5GYZiyYi596W"
      }
    },
    {
      "cell_type": "code",
      "source": [
        "# сбор данных новостей\n",
        "url = \"https://ria.ru/tourism/\"\n",
        "wd = webdriver.Chrome('chromedriver', options=options)\n",
        "wd.get(url) # Метод driver.get перейдет на страницу, заданную URL-адресом.\n",
        "\n",
        "list_news_headline = [raw.text for raw in wd.find_elements(By.CSS_SELECTOR, \"span.cell-list__item-title\")]\n",
        "list_href_on_photo = [raw.text for raw in wd.find_elements(By.CSS_SELECTOR, \"img.responsive_img\")]\n",
        "list_data_and_time = [raw.text for raw in wd.find_elements(By.CSS_SELECTOR, \"span.elem-info__date\")]\n",
        "\n",
        "wd.refresh()\n",
        "wd.find_element(By.CSS_SELECTOR, \"a.cell-list__item-link\").click()\n",
        "list_text_news     = [raw.text for raw in wd.find_elements(By.CSS_SELECTOR, \"div.article__text\")]\n",
        "\n",
        "\n",
        "# создание и внесение данных новостей в файлы\n",
        "list_name_file = [f\"tourism_news_{i}.txt\" for i in range(len(list_news_headline))]\n",
        "\n",
        "for i in range(len(list_name_file)):\n",
        "  with open(list_name_file[i], \"w\") as File:\n",
        "    File.writelines([list_news_headline[i], '\\n', list_href_on_photo[i], '\\n' list_data_and_time, list_text_news[i]])"
      ],
      "metadata": {
        "id": "VatfmlDs558H"
      },
      "execution_count": null,
      "outputs": []
    },
    {
      "cell_type": "markdown",
      "source": [
        "***мусор***"
      ],
      "metadata": {
        "id": "6uTQ9I9EAd5B"
      }
    },
    {
      "cell_type": "code",
      "source": [
        "import pandas as pd\n",
        "\n",
        "df = pd.DataFrame({\n",
        "    \"название_новости\": list_news_headline\n",
        "    \"ссылка_на_фото\": list_href_on_photo\n",
        "    \"дата/время\": list_data_and_time\n",
        "    \"текст\": list_text_news\n",
        "})"
      ],
      "metadata": {
        "id": "Xe5SBOL_AfDY"
      },
      "execution_count": null,
      "outputs": []
    },
    {
      "cell_type": "markdown",
      "source": [
        "# **Чтение и разбор PDF**<br>\n",
        "---\n",
        "Сложность: Средне\n",
        "\n",
        "---\n",
        "\n",
        "Необходимо разобрать(преобразовать) PDF в табличную структуру. <br>Для работы используйте **первую страницу**.<br>\n",
        "* Входные данные:\n",
        "https://github.com/vlad-kalambet/datasets/raw/main/data/Telecommination.pdf<br>\n",
        "* Примерные выходные данные: https://github.com/vlad-kalambet/datasets/raw/main/data/pdf.xlsx"
      ],
      "metadata": {
        "id": "nVeBuQzDp5Br"
      }
    },
    {
      "cell_type": "code",
      "source": [],
      "metadata": {
        "id": "BdZCnxsquu1Q"
      },
      "execution_count": null,
      "outputs": []
    },
    {
      "cell_type": "markdown",
      "source": [
        "# **Работа с данными/отрисовка графиков**<br>\n",
        "---\n",
        "Сложность: Средне\n",
        "\n",
        "---\n",
        "Необходимо отрисовать 3D график на основании данных с файла<br>\n",
        "Правило отображения графика:\n",
        "```\n",
        "x='dim_1', y='dim_2', z='price'\n",
        "Дополнительно следует раскрасить точки в зависимости к какому \"level\" он принадлежит,\n",
        "а также размер точки должен быть зависим от значения \"price\"\n",
        "```\n",
        "* Входные данные: https://github.com/vlad-kalambet/datasets/raw/main/data/1.4_houses.csv<br>\n",
        "* Примерные выходные данные: https://github.com/vlad-kalambet/datasets/raw/main/data/file.html\n"
      ],
      "metadata": {
        "id": "7J0snTsmsUuV"
      }
    },
    {
      "cell_type": "code",
      "source": [],
      "metadata": {
        "id": "EVnVVk1quvnw"
      },
      "execution_count": null,
      "outputs": []
    }
  ]
}