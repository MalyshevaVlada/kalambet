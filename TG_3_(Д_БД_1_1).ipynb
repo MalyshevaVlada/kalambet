{
  "cells": [
    {
      "cell_type": "markdown",
      "metadata": {
        "id": "view-in-github",
        "colab_type": "text"
      },
      "source": [
        "<a href=\"https://colab.research.google.com/github/MalyshevaVlada/kalambet/blob/main/TG_3_(%D0%94_%D0%91%D0%94_1_1).ipynb\" target=\"_parent\"><img src=\"https://colab.research.google.com/assets/colab-badge.svg\" alt=\"Open In Colab\"/></a>"
      ]
    },
    {
      "cell_type": "code",
      "execution_count": null,
      "metadata": {
        "id": "lrWA2Y4kADaN"
      },
      "outputs": [],
      "source": [
        "%%bash\n",
        "apt update &> /dev/null\n",
        "apt install chromium-chromedriver &> /dev/null\n",
        "pip install selenium &> /dev/null\n",
        "pip install pyTelegramBotAPI &> /dev/null"
      ]
    },
    {
      "cell_type": "code",
      "execution_count": null,
      "metadata": {
        "id": "PYNTGaM5wksu"
      },
      "outputs": [],
      "source": [
        "from selenium import webdriver\n",
        "from selenium.webdriver.common.by import By\n",
        "import time\n",
        "import telebot\n",
        "from datetime import datetime"
      ]
    },
    {
      "cell_type": "code",
      "execution_count": null,
      "metadata": {
        "id": "Fo85tF_7wxU3"
      },
      "outputs": [],
      "source": [
        "options = webdriver.ChromeOptions()\n",
        "options.add_argument('--headless')\n",
        "options.add_argument('--no-sandbox')\n",
        "options.add_argument('window-size=1400,2600')\n",
        "options.add_argument('user-agent=Mozilla/5.0 (Windows NT 6.1; Win64; x64) AppleWebKit/537.36 (KHTML, like Gecko) Chrome/84.0.4147.125 Safari/537.36')"
      ]
    },
    {
      "cell_type": "code",
      "execution_count": null,
      "metadata": {
        "id": "mKWSni88xglS"
      },
      "outputs": [],
      "source": [
        "def check_price():\n",
        "  try:\n",
        "    current_datetime = datetime.now()\n",
        "    time = current_datetime.strftime(\"%d-%m-%Y %H:%M:%S\")\n",
        "    wd = webdriver.Chrome('chromedriver', options=options)\n",
        "    wd.get('http://gendalf.cf/')\n",
        "    name = wd.find_element(By.TAG_NAME, 'h1').text.split(' ',1)[1]\n",
        "    price = int(wd.find_element(By.TAG_NAME, 'h2').text.split(' ', 1)[1][:-1].replace(' ',''))\n",
        "    return time, name, price\n",
        "  except:\n",
        "    print('Error')"
      ]
    },
    {
      "cell_type": "code",
      "source": [
        "def check_price_work2():\n",
        "  try:\n",
        "    current_datetime = datetime.now()\n",
        "    time = current_datetime.strftime(\"%d-%m-%Y %H:%M:%S\")\n",
        "    wd = webdriver.Chrome('chromedriver', options=options)\n",
        "    wd.get('http://gendalf.cf:8080/product/%d0%b8%d0%b3%d1%80%d0%be%d0%b2%d0%b0%d1%8f-%d0%ba%d0%be%d0%bd%d1%81%d0%be%d0%bb%d1%8c-nintendo-switch-32-gb/')\n",
        "    name = wd.find_element(By.CLASS_NAME, 'product_title').text\n",
        "    price = wd.find_element(By.CLASS_NAME, 'woocommerce-Price-amount').text.split('.')[0]\n",
        "    return time, name, price\n",
        "  except:\n",
        "    print('Error')"
      ],
      "metadata": {
        "id": "lBa41cuvfwVX"
      },
      "execution_count": null,
      "outputs": []
    },
    {
      "cell_type": "code",
      "execution_count": null,
      "metadata": {
        "id": "o4IprpX8gW3S",
        "colab": {
          "base_uri": "https://localhost:8080/"
        },
        "outputId": "853805aa-eff0-46ff-b0ef-5f2cb8c9435f"
      },
      "outputs": [
        {
          "output_type": "execute_result",
          "data": {
            "text/plain": [
              "('12-03-2022 14:19:50', 'Игровая консоль Nintendo Switch 32 GB', 150)"
            ]
          },
          "metadata": {},
          "execution_count": 24
        }
      ],
      "source": [
        "check_price()"
      ]
    },
    {
      "cell_type": "code",
      "source": [
        "check_price_work2()"
      ],
      "metadata": {
        "colab": {
          "base_uri": "https://localhost:8080/"
        },
        "id": "E0eEUQzMf9BT",
        "outputId": "738ec7d8-a41b-40dc-d7d6-c7c62fef67e6"
      },
      "execution_count": null,
      "outputs": [
        {
          "output_type": "execute_result",
          "data": {
            "text/plain": [
              "('12-03-2022 14:20:17', 'Игровая консоль Nintendo Switch 32 GB', '54000')"
            ]
          },
          "metadata": {},
          "execution_count": 27
        }
      ]
    },
    {
      "cell_type": "code",
      "execution_count": null,
      "metadata": {
        "id": "4_fmX9Ht8IBv"
      },
      "outputs": [],
      "source": [
        "bot = telebot.TeleBot('5285438007:AAFUnbizBUfXEfw5yIohE_5uS8nOVZo3SAQ')\n",
        "\n",
        "@bot.message_handler(commands=['start'])\n",
        "def start(m):\n",
        "  bot.send_message(m.chat.id, 'Привет. Напиши команду /check для отслеживания товара')\n",
        "\n",
        "\n",
        "@bot.message_handler(commands=['check'])\n",
        "def check(m):\n",
        "  current_price = check_price()[2]\n",
        "  while True:\n",
        "    if current_price != check_price()[2]:\n",
        "      message_parse = f'Product: {check_price()[1]},\\nTime: {check_price()[0]},\\nCurrent price: {check_price()[2]},\\nOld price: {current_price},\\nDifference: {current_price - check_price()[2]}'\n",
        "      print(message_parse)\n",
        "      bot.send_message(m.chat.id, message_parse)\n",
        "      current_price = check_price()[2]\n",
        "    else:\n",
        "      continue\n",
        "\n",
        "\n",
        "@bot.message_handler(content_types=['text'])\n",
        "def handle_text(m):\n",
        "    # bot.send_message(m.chat.id, search(m.text))\n",
        "    bot.send_message(m.chat.id, 'Я')\n",
        "    time.sleep(1)\n",
        "    bot.send_message(m.chat.id, 'ТЕБЯ')\n",
        "    time.sleep(1)\n",
        "    bot.send_message(m.chat.id, 'НЕ')\n",
        "    time.sleep(0.3)\n",
        "    bot.send_message(m.chat.id, 'ПОНИМАЮ!!111')\n",
        "\n",
        "bot.polling()"
      ]
    }
  ],
  "metadata": {
    "colab": {
      "provenance": [],
      "include_colab_link": true
    },
    "kernelspec": {
      "display_name": "Python 3",
      "name": "python3"
    },
    "language_info": {
      "name": "python"
    }
  },
  "nbformat": 4,
  "nbformat_minor": 0
}