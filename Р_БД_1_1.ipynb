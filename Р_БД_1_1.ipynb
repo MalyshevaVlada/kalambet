{
  "nbformat": 4,
  "nbformat_minor": 0,
  "metadata": {
    "colab": {
      "provenance": [],
      "collapsed_sections": [
        "0B7w1sfFolID",
        "Ri_ouI_xonDf",
        "7OdGtevMFuPP",
        "-qsh03IdTTl8"
      ],
      "authorship_tag": "ABX9TyNJQDh83ZBBOYgYaWtGyBqX",
      "include_colab_link": true
    },
    "kernelspec": {
      "name": "python3",
      "display_name": "Python 3"
    },
    "language_info": {
      "name": "python"
    }
  },
  "cells": [
    {
      "cell_type": "markdown",
      "metadata": {
        "id": "view-in-github",
        "colab_type": "text"
      },
      "source": [
        "<a href=\"https://colab.research.google.com/github/MalyshevaVlada/kalambet/blob/main/%D0%A0_%D0%91%D0%94_1_1.ipynb\" target=\"_parent\"><img src=\"https://colab.research.google.com/assets/colab-badge.svg\" alt=\"Open In Colab\"/></a>"
      ]
    },
    {
      "cell_type": "markdown",
      "source": [
        "###Установка необходимого"
      ],
      "metadata": {
        "id": "3rXiid5sKcqa"
      }
    },
    {
      "cell_type": "code",
      "source": [
        "%%bash\n",
        "apt update &> /dev/null\n",
        "apt install chromium-chromedriver &> /dev/null\n",
        "pip install selenium &> /dev/null\n",
        "pip install PyTelegramBotAPI &> /dev/null\n",
        "pip install openpyxl &> /dev/null"
      ],
      "metadata": {
        "id": "B2OYY_8Nsf4o"
      },
      "execution_count": null,
      "outputs": []
    },
    {
      "cell_type": "code",
      "source": [
        "from selenium import webdriver\n",
        "from selenium.webdriver.common.by import By\n",
        "from datetime import datetime\n",
        "from telebot import types\n",
        "from openpyxl import load_workbook\n",
        "import telebot\n",
        "import openpyxl\n",
        "import pandas as pd"
      ],
      "metadata": {
        "id": "o5R_JywT3p-O"
      },
      "execution_count": null,
      "outputs": []
    },
    {
      "cell_type": "code",
      "source": [
        "options = webdriver.ChromeOptions()\n",
        "options.add_argument('--headless')\n",
        "options.add_argument('--no-sandbox')\n",
        "options.add_argument('window-size = 1400,2600')\n",
        "options.add_argument('user-agent=Mozilla/5.0 (Windows NT 10.0; Win64; x64) AppleWebKit/537.36 (KHTML, like Gecko) Chrome/99.0.4844.51 Safari/537.36')"
      ],
      "metadata": {
        "id": "-JHGSNXu4yaW"
      },
      "execution_count": null,
      "outputs": []
    },
    {
      "cell_type": "markdown",
      "source": [
        "###stage_1\n",
        "бот присылает уведомления об изменении цены (название, старая цена, новая цена, разница) на игровую консоль (сайт:  http://gendalf.cf/) и если прислать ему 🦕, то он отправит 🍏\n",
        ":)"
      ],
      "metadata": {
        "id": "0B7w1sfFolID"
      }
    },
    {
      "cell_type": "code",
      "source": [
        "TOKEN = '5259580836:AAGNBpgVHJ11o4H2-sJT8AVHlNCIIRhbHB8'\n",
        "bot = telebot.TeleBot(TOKEN)\n",
        "\n",
        "@bot.message_handler(commands=['start']) #///////////////////////начало общения с ботиком\n",
        "def start(message):\n",
        "    markup = types.ReplyKeyboardMarkup(resize_keyboard=True, row_width=2)\n",
        "    price_notice = types.KeyboardButton('/price_notice')\n",
        "    st = types.KeyboardButton('🦕')\n",
        "    markup.add(price_notice, st)\n",
        "\n",
        "    bot.send_message(message.chat.id, \"Доброго времени суток ^_^\", reply_markup=markup)\n",
        "\n",
        "\n",
        "@bot.message_handler(commands=['price_notice']) #///////////////////////уведомления\n",
        "def price_notice(message):\n",
        "    wd = webdriver.Chrome('chromedriver', options=options)\n",
        "    url = 'http://gendalf.cf/'\n",
        "    wd.get(url)\n",
        "\n",
        "    name =  wd.find_element(By.TAG_NAME, 'h1').text.split(': ')[1]\n",
        "    price_old = int(wd.find_element(By.TAG_NAME, 'h2').text.replace('₽','').replace(' ','').split(':')[1])\n",
        "    price_new = None\n",
        "\n",
        "    while True:\n",
        "      price_new = int(wd.find_element(By.TAG_NAME, 'h2').text.replace('₽','').replace(' ','').split(':')[1])\n",
        "\n",
        "      if price_old != price_new:\n",
        "        df = f\"Название : {name}\\nПрошлая: {price_old} ₽\\nАктуальная: {price_new} ₽\\nРазница: {price_old - price_new} ₽\"\n",
        "        price_old = price_new\n",
        "      else:\n",
        "        continue\n",
        "\n",
        "\n",
        "@bot.message_handler(content_types=['text']) #///////////////////////ответ на рандомный текст\n",
        "def text(message):\n",
        "  if message.text == '🦕':\n",
        "    bot.send_message(message.chat.id, \"На тебе 🍏\")\n",
        "  else:\n",
        "    bot.send_message(message.chat.id, \"Моим мозгам лень придумывать ответ\")\n",
        "\n",
        "\n",
        "bot.polling()"
      ],
      "metadata": {
        "id": "Y1oy8CYagdu7"
      },
      "execution_count": null,
      "outputs": []
    },
    {
      "cell_type": "markdown",
      "source": [
        "###stage_2\n",
        "бот присылает уведомления об изменении цены (время, название, старая цена, новая цена, разница) на игровую консоль, ну и отвечает на рандомный текст одной и той же фразой)\n"
      ],
      "metadata": {
        "id": "Ri_ouI_xonDf"
      }
    },
    {
      "cell_type": "code",
      "source": [
        "TOKEN = '5259580836:AAGNBpgVHJ11o4H2-sJT8AVHlNCIIRhbHB8'\n",
        "bot = telebot.TeleBot(TOKEN)\n",
        "\n",
        "@bot.message_handler(commands=[\"start\"]) #\\\\\\\\\\\\\\\\\\\\\\\\\\\\\\\\\\\\\\\\\\\\\\\\\\\\\\start\n",
        "def start(message):\n",
        "  Markup = types.ReplyKeyboardMarkup(resize_keyboard=True, row_width=1)\n",
        "  price = types.KeyboardButton(\"/price\")\n",
        "  Markup.add(price)\n",
        "  bot.send_message(message.chat.id, \"Поздравляю, ты попал к ежу\", reply_markup=Markup)\n",
        "\n",
        "\n",
        "@bot.message_handler(commands=[\"price\"]) #\\\\\\\\\\\\\\\\\\\\\\\\\\\\\\\\\\\\\\\\\\\\\\\\\\\\\\price\n",
        "def price(message):\n",
        "  url = \"http://gendalf.cf:8080/product/%d0%b8%d0%b3%d1%80%d0%be%d0%b2%d0%b0%d1%8f-%d0%ba%d0%be%d0%bd%d1%81%d0%be%d0%bb%d1%8c-nintendo-switch-32-gb/\"\n",
        "  wd = webdriver.Chrome('chromedriver', options=options)\n",
        "  wd.get(url)\n",
        "\n",
        "  sss_time = datetime.now()\n",
        "  time = sss_time.strftime(\"%d-%m-%Y %H:%M:%S\")\n",
        "  name = wd.find_element(By.CSS_SELECTOR, \"h1.product_title\").text\n",
        "  price_old = int(wd.find_element(By.TAG_NAME, \"bdi\").text.split(\".\")[0])\n",
        "  price_new = 0\n",
        "\n",
        "  while True:\n",
        "    price_new = int(wd.find_element(By.TAG_NAME, \"bdi\").text.split(\".\")[0])\n",
        "\n",
        "    if price_old != price_new:\n",
        "      diference_price = price_old-price_new\n",
        "      z = f\"Время: {time}\\nНазвание: {name}\\nCтарая цена: {price_old} ₽\\nНовая цена: {price_new} ₽\\nРазница: {diference_price} ₽\"\n",
        "      bot.send_message(message.chat.id, \"У тебя тут ёж перевернулся\\n\", z)\n",
        "      price_old = price_new\n",
        "    else:\n",
        "      continue\n",
        "\n",
        "\n",
        "@bot.message_handler(content_types=['text']) #\\\\\\\\\\\\\\\\\\\\\\\\\\\\\\\\\\\\\\\\\\\\\\\\\\\\\\ответ на рандомный текст\n",
        "def text(message):\n",
        "    bot.send_message(message.chat.id, \"Чел, у меня IQ -3\")\n",
        "\n",
        "\n",
        "bot.polling()"
      ],
      "metadata": {
        "id": "_qpebN8YoNs-"
      },
      "execution_count": null,
      "outputs": []
    },
    {
      "cell_type": "markdown",
      "source": [
        "###stage_3\n",
        "бот присылает уведомления об изменении цены (время, название, прошлую цену, актуальную цену, разницу) на игровой ноут с DNS)"
      ],
      "metadata": {
        "id": "7OdGtevMFuPP"
      }
    },
    {
      "cell_type": "code",
      "source": [
        "TOKEN = '5259580836:AAGNBpgVHJ11o4H2-sJT8AVHlNCIIRhbHB8'\n",
        "bot = telebot.TeleBot(TOKEN)\n",
        "\n",
        "@bot.message_handler(commands=['start'])\n",
        "def start(message):\n",
        "  bot.send_message(message.chat.id, \"Доброго чай\\nВы попали на парсер игрового ноута с <a href=https://www.dns-shop.ru/product/b9378b0c7f07ed20/161-noutbuk-hp-victus-16-e0119ur-seryj/>DNS</a>\", disable_web_page_preview=1, parse_mode='html') #\"Доброго чай\\nВы попали на парсер DNS:\\n{https://www.dns-shop.ru/}\"\n",
        "\n",
        "\n",
        "@bot.message_handler(commands=['price'])\n",
        "def price(message):\n",
        "  wd = webdriver.Chrome('chromedriver', options=options)\n",
        "  url = \"https://www.dns-shop.ru/product/b9378b0c7f07ed20/161-noutbuk-hp-victus-16-e0119ur-seryj/\"\n",
        "  wd.get(url)\n",
        "\n",
        "  q_time = datetime.now()\n",
        "  time = q_time.strftime(\"%d-%m-%Y %H:%M:%S\")\n",
        "  name =  wd.find_element(By.CSS_SELECTOR, \"h1.product-card-top__title\").text\n",
        "  price_old = int(wd.find_element(By.CSS_SELECTOR, \"div.product-buy__price\").text.replace('₽','').replace(' ',''))\n",
        "  price_new = None\n",
        "\n",
        "  while True:\n",
        "    price_new = int(wd.find_element(By.CSS_SELECTOR, \"div.product-buy__price\").text.replace('₽','').replace(' ',''))\n",
        "\n",
        "    if price_old != price_new:\n",
        "      diference_price = price_old - price_new\n",
        "      df = f\"Время: {time}\\nНазвание: {name}\\nПрошлая цена: {price_old} ₽\\nАктуальная цена: {price_new} ₽\\nРазница: {diference_price} ₽\"\n",
        "      if diference_price > 0:\n",
        "        bot.send_message(message.chat.id, \"Бро, время для покупки\\n\", df)\n",
        "      if diference_price < 0:\n",
        "        bot.send_message(message.chat.id, \"Бро, забей\\n\", df)\n",
        "      price_old = price_new\n",
        "    else:\n",
        "      continue\n",
        "\n",
        "bot.polling()"
      ],
      "metadata": {
        "id": "ggIfzbEyXtyq"
      },
      "execution_count": null,
      "outputs": []
    },
    {
      "cell_type": "markdown",
      "source": [
        "###stage_4"
      ],
      "metadata": {
        "id": "-qsh03IdTTl8"
      }
    },
    {
      "cell_type": "code",
      "source": [
        "#https://www.kinopoisk.ru/index.php?kp_query=\n",
        "TOKEN = '5259580836:AAGNBpgVHJ11o4H2-sJT8AVHlNCIIRhbHB8'\n",
        "bot = telebot.TeleBot(TOKEN)\n",
        "\n",
        "@bot.message_handler(commands=['start'])\n",
        "def start(message):\n",
        "  bot.send_message(message.chat.id, \"Два кота, нет три, нет это <a href=https://www.kinopoisk.ru/>Кинопоиск</a>\", disable_web_page_preview=1, parse_mode='html')\n",
        "  bot.send_message(message.chat.id, \"Так, щас начнутся фокусы. Введи название, а я найду фильм)))\")\n",
        "\n",
        "\n",
        "@bot.message_handler(commands=['price'])\n",
        "def price(message):\n",
        "  wd = webdriver.Chrome('chromedriver', options=options)\n",
        "  url = \"https://www.dns-shop.ru/product/b9378b0c7f07ed20/161-noutbuk-hp-victus-16-e0119ur-seryj/\"\n",
        "  wd.get(url)\n",
        "\n",
        "  q_time = datetime.now()\n",
        "  time = q_time.strftime(\"%d-%m-%Y %H:%M:%S\")\n",
        "  name =  wd.find_element(By.CSS_SELECTOR, \"h1.product-card-top__title\").text\n",
        "  price_old = int(wd.find_element(By.CSS_SELECTOR, \"div.product-buy__price\").text.replace('₽','').replace(' ',''))\n",
        "  price_new = None\n",
        "\n",
        "  while True:\n",
        "    price_new = int(wd.find_element(By.CSS_SELECTOR, \"div.product-buy__price\").text.replace('₽','').replace(' ',''))\n",
        "\n",
        "    if price_old != price_new:\n",
        "      diference_price = price_old - price_new\n",
        "      df = f\"Время: {time}\\nНазвание: {name}\\nПрошлая цена: {price_old} ₽\\nАктуальная цена: {price_new} ₽\\nРазница: {diference_price} ₽\"\n",
        "      if diference_price > 0:\n",
        "        bot.send_message(message.chat.id, \"Бро, время для покупки\\n\", df)\n",
        "      if diference_price < 0:\n",
        "        bot.send_message(message.chat.id, \"Бро, забей\\n\", df)\n",
        "      price_old = price_new\n",
        "    else:\n",
        "      continue\n",
        "\n",
        "bot.polling()"
      ],
      "metadata": {
        "id": "DF2IHubCTYwZ"
      },
      "execution_count": null,
      "outputs": []
    },
    {
      "cell_type": "markdown",
      "source": [
        "###aaaaaaaaaaaaaaaaaaaaaaaaaaaaaaaaaaaaaaaaaaaaaaaaaaaaaaaaaaaaaaaaaaaaaaaaaaaaaaaaaaaaaaaaaaaaaaaaaaaaaaaaaaaaaaaaaaaaaaaaaaaaaaaaaaaaaaaaaaaaaaaaaaaaaaaaaaaaaaaaaaaaaaaaaaaaaaaaaaaaaaaaaaaaaaaaaaaaaaaaaaaaaaaaaaaaaaaaaaaaaaaaaaaaaaaaaaaaaaaaaaaaaaaaaaaaaaaaaaaaaaaaaaaaaaaaaaaaaaaaaaaaaaaaaaaaaaaaaaaaaaaaaaaaaaaaaaaaaaaaaaaaaaaaaaaaaaaaaaaa"
      ],
      "metadata": {
        "id": "FcmFKGsXS69U"
      }
    },
    {
      "cell_type": "code",
      "source": [
        "#from typing import Tuple\n",
        "lst_name = []\n",
        "lst_price = []\n",
        "lst_link = []\n",
        "lst = []\n",
        "\n",
        "for page in range(1,3):\n",
        "  url = f'https://www.dns-shop.ru/catalog/17a8a01d16404e77/smartfony/?order=2&groupBy=avails&stock=now-today-tomorrow-later&p={page}'\n",
        "\n",
        "  wd = webdriver.Chrome('chromedriver', options=options)\n",
        "  wd.get(url)\n",
        "\n",
        "  names_raw = wd.find_elements(By.CSS_SELECTOR, \"a.catalog-product__name\")\n",
        "  for name in names_raw:\n",
        "    lst_name.append(name.text)\n",
        "  prices_raw = wd.find_elements(By.CSS_SELECTOR, \"div.product-buy__price\")\n",
        "  for price in prices_raw:\n",
        "    lst_price.append(price.text)\n",
        "  links_raw = wd.find_elements(By.CSS_SELECTOR, \"a.catalog-product__name\")\n",
        "  for link in links_raw:\n",
        "    lst_link.append(link.get_attribute(\"href\"))\n",
        "\n",
        "for i in range(len(lst_name)):\n",
        "  Tp = (lst_name[i], lst_price[i], lst_link[i])\n",
        "  lst.append(Tp)\n",
        "print(lst)"
      ],
      "metadata": {
        "colab": {
          "base_uri": "https://localhost:8080/"
        },
        "id": "0LzmrYiJ4KRy",
        "outputId": "b701476e-6609-486b-c84b-c222328bec25"
      },
      "execution_count": null,
      "outputs": [
        {
          "output_type": "stream",
          "name": "stdout",
          "text": [
            "[('6.7\" Смартфон Apple iPhone 13 Pro Max 1000 ГБ золотистый [6x(1.8 ГГц, 3.2 ГГц), 1 SIM, OLED, 2778×1284, камера 12+12+12 Мп, NFC, 5G, GPS]', '224 999 ₽', 'https://www.dns-shop.ru/product/92bacd8315daed20/67-smartfon-apple-iphone-13-pro-max-1000-gb-zolotistyj/'), ('6.7\" Смартфон Apple iPhone 13 Pro Max 1000 ГБ серый [6x(1.8 ГГц, 3.2 ГГц), 1 SIM, OLED, 2778×1284, камера 12+12+12 Мп, NFC, 5G, GPS]', '224 999 ₽', 'https://www.dns-shop.ru/product/8c6be94615daed20/67-smartfon-apple-iphone-13-pro-max-1000-gb-seryj/'), ('6.1\" Смартфон Apple iPhone 13 Pro 1000 ГБ голубой [6x(1.8 ГГц, 3.2 ГГц), 1 SIM, OLED, 2532х1170, камера 12+12+12 Мп, NFC, 5G, GPS]', '203 999 ₽', 'https://www.dns-shop.ru/product/8c6be93915daed20/61-smartfon-apple-iphone-13-pro-1000-gb-goluboj/'), ('6.1\" Смартфон Apple iPhone 13 Pro 512 ГБ серебристый [6x(1.8 ГГц, 3.2 ГГц), 1 SIM, OLED, 2532х1170, камера 12+12+12 Мп, NFC, 5G, GPS]', '194 999 ₽', 'https://www.dns-shop.ru/product/8616d61615daed20/61-smartfon-apple-iphone-13-pro-512-gb-serebristyj/'), ('6.1\" Смартфон Apple iPhone 13 Pro 512 ГБ серый [6x(1.8 ГГц, 3.2 ГГц), 1 SIM, OLED, 2532х1170, камера 12+12+12 Мп, NFC, 5G, GPS]', '184 999 ₽', 'https://www.dns-shop.ru/product/8616d61515daed20/61-smartfon-apple-iphone-13-pro-512-gb-seryj/'), ('6.1\" Смартфон Apple iPhone 13 Pro 256 ГБ серебристый [6x(1.8 ГГц, 3.2 ГГц), 1 SIM, OLED, 2532х1170, камера 12+12+12 Мп, NFC, 5G, GPS]', '164 999 ₽', 'https://www.dns-shop.ru/product/8616d61215daed20/61-smartfon-apple-iphone-13-pro-256-gb-serebristyj/'), ('6.7\" Смартфон Apple iPhone 13 Pro Max 512 ГБ голубой [6x(1.8 ГГц, 3.2 ГГц), 1 SIM, OLED, 2778×1284, камера 12+12+12 Мп, NFC, 5G, GPS]', '146 999 ₽', 'https://www.dns-shop.ru/product/8c6be94515daed20/67-smartfon-apple-iphone-13-pro-max-512-gb-goluboj/'), ('6.7\" Смартфон Apple iPhone 13 Pro Max 512 ГБ золотистый [6x(1.8 ГГц, 3.2 ГГц), 1 SIM, OLED, 2778×1284, камера 12+12+12 Мп, NFC, 5G, GPS]', '146 999 ₽', 'https://www.dns-shop.ru/product/8c6be94415daed20/67-smartfon-apple-iphone-13-pro-max-512-gb-zolotistyj/'), ('6.7\" Смартфон Apple iPhone 13 Pro Max 256 ГБ золотистый [6x(1.8 ГГц, 3.2 ГГц), 1 SIM, OLED, 2778×1284, камера 12+12+12 Мп, NFC, 5G, GPS]', '136 999 ₽', 'https://www.dns-shop.ru/product/8c6be94015daed20/67-smartfon-apple-iphone-13-pro-max-256-gb-zolotistyj/'), ('6.7\" Смартфон Apple iPhone 13 Pro Max 256 ГБ голубой [6x(1.8 ГГц, 3.2 ГГц), 1 SIM, OLED, 2778×1284, камера 12+12+12 Мп, NFC, 5G, GPS]', '134 999 ₽', 'https://www.dns-shop.ru/product/8c6be94115daed20/67-smartfon-apple-iphone-13-pro-max-256-gb-goluboj/'), ('6.1\" Смартфон Apple iPhone 12 Pro 512 ГБ серебристый [6x(2.99 ГГц), 6 Гб, 1 SIM, OLED, 2532х1170, камера 12+12+12 Мп, NFC, 5G, GPS, 2815 мА*ч]', '124 999 ₽', 'https://www.dns-shop.ru/product/bbf26d230da03332/61-smartfon-apple-iphone-12-pro-512-gb-serebristyj/'), ('6.1\" Смартфон Apple iPhone 13 Pro 256 ГБ серый [6x(1.8 ГГц, 3.2 ГГц), 1 SIM, OLED, 2532х1170, камера 12+12+12 Мп, NFC, 5G, GPS]', '123 999 ₽', 'https://www.dns-shop.ru/product/8616d61115daed20/61-smartfon-apple-iphone-13-pro-256-gb-seryj/'), ('6.6\" Смартфон Huawei P50 Pro 256 ГБ золотистый [8x(2.84 ГГц, 2.42 ГГц, 1.8 ГГц), 8 Гб, 2 SIM, OLED, 2700х1228, камера 64+50+40+13 Мп, NFC, 4G, GPS, 4360 мА*ч]', '119 999 ₽', 'https://www.dns-shop.ru/product/76f0829b7f16ed20/66-smartfon-huawei-p50-pro-256-gb-zolotistyj/'), ('6.6\" Смартфон Huawei P50 Pro 256 ГБ черный [8x(2.84 ГГц, 2.42 ГГц, 1.8 ГГц), 8 Гб, 2 SIM, OLED, 2700х1228, камера 64+50+40+13 Мп, NFC, 4G, GPS, 4360 мА*ч]', '119 999 ₽', 'https://www.dns-shop.ru/product/046166517f17ed20/66-smartfon-huawei-p50-pro-256-gb-cernyj/'), ('6.7\" Смартфон Apple iPhone 13 Pro Max 128 ГБ голубой [6x(1.8 ГГц, 3.2 ГГц), 1 SIM, OLED, 2778×1284, камера 12+12+12 Мп, NFC, 5G, GPS]', '117 999 ₽', 'https://www.dns-shop.ru/product/8c6be93d15daed20/67-smartfon-apple-iphone-13-pro-max-128-gb-goluboj/'), ('6.7\" Смартфон Apple iPhone 13 Pro Max 128 ГБ золотистый [6x(1.8 ГГц, 3.2 ГГц), 1 SIM, OLED, 2778×1284, камера 12+12+12 Мп, NFC, 5G, GPS]', '117 999 ₽', 'https://www.dns-shop.ru/product/8c6be93c15daed20/67-smartfon-apple-iphone-13-pro-max-128-gb-zolotistyj/'), ('6.7\" Смартфон Apple iPhone 13 Pro Max 128 ГБ серый [6x(1.8 ГГц, 3.2 ГГц), 1 SIM, OLED, 2778×1284, камера 12+12+12 Мп, NFC, 5G, GPS]', '117 999 ₽', 'https://www.dns-shop.ru/product/8c6be93a15daed20/67-smartfon-apple-iphone-13-pro-max-128-gb-seryj/'), ('6.1\" Смартфон Apple iPhone 13 512 ГБ розовый [6x(1.8 ГГц, 3.2 ГГц), 1 SIM, OLED, 2532х1170, камера 12+12 Мп, NFC, 5G, GPS]', '114 999 ₽', 'https://www.dns-shop.ru/product/5926a39b15d3ed20/61-smartfon-apple-iphone-13-512-gb-rozovyj/'), ('6.1\" Смартфон Apple iPhone 13 512 ГБ синий [6x(1.8 ГГц, 3.2 ГГц), 1 SIM, OLED, 2532х1170, камера 12+12 Мп, NFC, 5G, GPS]', '114 999 ₽', 'https://www.dns-shop.ru/product/565e5cc915d4ed20/61-smartfon-apple-iphone-13-512-gb-sinij/'), ('6.1\" Смартфон Apple iPhone 13 512 ГБ черный [6x(1.8 ГГц, 3.2 ГГц), 1 SIM, OLED, 2532х1170, камера 12+12 Мп, NFC, 5G, GPS]', '114 999 ₽', 'https://www.dns-shop.ru/product/c3b924bb15d1ed20/61-smartfon-apple-iphone-13-512-gb-cernyj/'), ('6.1\" Смартфон Apple iPhone 13 512 ГБ красный [6x(1.8 ГГц, 3.2 ГГц), 1 SIM, OLED, 2532х1170, камера 12+12 Мп, NFC, 5G, GPS]', '109 999 ₽', 'https://www.dns-shop.ru/product/cb1c6d1715d3ed20/61-smartfon-apple-iphone-13-512-gb-krasnyj/'), ('6.7\" Смартфон Apple iPhone 12 Pro Max \"Как новый\" 512 ГБ серый [6x(2.99 ГГц), 6 Гб, 1 SIM, OLED, 2778×1284, камера 12+12+12 Мп, NFC, 5G, GPS, 3687 мА*ч]', '109 999 ₽', 'https://www.dns-shop.ru/product/e90091ac95d4ed20/67-smartfon-apple-iphone-12-pro-max-kak-novyj-512-gb-seryj/'), ('6.7\" Смартфон Apple iPhone 12 Pro Max \"Как новый\" 512 ГБ синий [6x(2.99 ГГц), 6 Гб, 1 SIM, OLED, 2778×1284, камера 12+12+12 Мп, NFC, 5G, GPS, 3687 мА*ч]', '109 999 ₽', 'https://www.dns-shop.ru/product/83db805c95d5ed20/67-smartfon-apple-iphone-12-pro-max-kak-novyj-512-gb-sinij/'), ('5.4\" Смартфон Apple iPhone 13 mini 512 ГБ красный [6x(1.8 ГГц, 3.2 ГГц), 1 SIM, OLED, 2340x1080, камера 12+12 Мп, NFC, 5G, GPS]', '106 999 ₽', 'https://www.dns-shop.ru/product/8012bafc15daed20/54-smartfon-apple-iphone-13-mini-512-gb-krasnyj/'), ('5.4\" Смартфон Apple iPhone 13 mini 512 ГБ синий [6x(1.8 ГГц, 3.2 ГГц), 1 SIM, OLED, 2340x1080, камера 12+12 Мп, NFC, 5G, GPS]', '106 999 ₽', 'https://www.dns-shop.ru/product/8012bafd15daed20/54-smartfon-apple-iphone-13-mini-512-gb-sinij/'), ('5.4\" Смартфон Apple iPhone 13 mini 512 ГБ черный [6x(1.8 ГГц, 3.2 ГГц), 1 SIM, OLED, 2340x1080, камера 12+12 Мп, NFC, 5G, GPS]', '106 999 ₽', 'https://www.dns-shop.ru/product/8012baf715daed20/54-smartfon-apple-iphone-13-mini-512-gb-cernyj/'), ('6.7\" Смартфон Apple iPhone 12 Pro Max \"Как новый\" 256 ГБ серый [6x(2.99 ГГц), 6 Гб, 1 SIM, OLED, 2778×1284, камера 12+12+12 Мп, NFC, 5G, GPS, 3687 мА*ч]', '104 999 ₽', 'https://www.dns-shop.ru/product/c3e6e27095d3ed20/67-smartfon-apple-iphone-12-pro-max-kak-novyj-256-gb-seryj/'), ('6.7\" Смартфон Apple iPhone 12 Pro Max \"Как новый\" 256 ГБ синий [6x(2.99 ГГц), 6 Гб, 1 SIM, OLED, 2778×1284, камера 12+12+12 Мп, NFC, 5G, GPS, 3687 мА*ч]', '104 999 ₽', 'https://www.dns-shop.ru/product/2fb7f4f495d4ed20/67-smartfon-apple-iphone-12-pro-max-kak-novyj-256-gb-sinij/'), ('5.4\" Смартфон Apple iPhone 13 mini 512 ГБ розовый [6x(1.8 ГГц, 3.2 ГГц), 1 SIM, OLED, 2340x1080, камера 12+12 Мп, NFC, 5G, GPS]', '103 999 ₽', 'https://www.dns-shop.ru/product/8012bafb15daed20/54-smartfon-apple-iphone-13-mini-512-gb-rozovyj/'), ('6.1\" Смартфон Apple iPhone 13 Pro 128 ГБ голубой [6x(1.8 ГГц, 3.2 ГГц), 1 SIM, OLED, 2532х1170, камера 12+12+12 Мп, NFC, 5G, GPS]', '99 999 ₽', 'https://www.dns-shop.ru/product/8616d61015daed20/61-smartfon-apple-iphone-13-pro-128-gb-goluboj/'), ('5.4\" Смартфон Apple iPhone 13 mini 512 ГБ белый [6x(1.8 ГГц, 3.2 ГГц), 1 SIM, OLED, 2340x1080, камера 12+12 Мп, NFC, 5G, GPS]', '98 999 ₽', 'https://www.dns-shop.ru/product/8012bafa15daed20/54-smartfon-apple-iphone-13-mini-512-gb-belyj/'), ('6.5\" Смартфон Apple iPhone 11 Pro Max \"Как новый\" 512 ГБ серый [6x(2.65 ГГц), 4 Гб, 1 SIM, OLED, 2688x1242, камера 12+12+12 Мп, NFC, 4G, GPS, 3969 мА*ч]', '96 999 ₽', 'https://www.dns-shop.ru/product/e78f07d0684aed20/65-smartfon-apple-iphone-11-pro-max-kak-novyj-512-gb-seryj/'), ('6.1\" Смартфон Apple iPhone 12 Pro \"Как новый\" 256 ГБ синий [6x(2.99 ГГц), 6 Гб, 1 SIM, OLED, 2532х1170, камера 12+12+12 Мп, NFC, 5G, GPS, 2815 мА*ч]', '94 999 ₽', 'https://www.dns-shop.ru/product/20d56c6395d6ed20/61-smartfon-apple-iphone-12-pro-kak-novyj-256-gb-sinij/'), ('6.7\" Смартфон Samsung Galaxy S21+ 128 ГБ черный [8x(2.9 ГГц, 2.8 ГГц, 2.2 ГГц), 8 Гб, 2 SIM, Dynamic AMOLED 2X, 2400x1080, камера 64+12+12 Мп, NFC, 5G, GPS, 4800 мА*ч]', '94 999 ₽', 'https://www.dns-shop.ru/product/a541fc4353ca1b80/67-smartfon-samsung-galaxy-s21-128-gb-cernyj/'), ('6.1\" Смартфон Apple iPhone 13 256 ГБ красный [6x(1.8 ГГц, 3.2 ГГц), 1 SIM, OLED, 2532х1170, камера 12+12 Мп, NFC, 5G, GPS]', '93 999 ₽', 'https://www.dns-shop.ru/product/9154bebe15d0ed20/61-smartfon-apple-iphone-13-256-gb-krasnyj/'), ('6.1\" Смартфон Apple iPhone 13 256 ГБ розовый [6x(1.8 ГГц, 3.2 ГГц), 1 SIM, OLED, 2532х1170, камера 12+12 Мп, NFC, 5G, GPS]', '93 999 ₽', 'https://www.dns-shop.ru/product/36ebb99415cfed20/61-smartfon-apple-iphone-13-256-gb-rozovyj/')]\n"
          ]
        }
      ]
    },
    {
      "cell_type": "markdown",
      "source": [
        "###MySQL"
      ],
      "metadata": {
        "id": "ofQcoDbLTEPf"
      }
    },
    {
      "cell_type": "code",
      "source": [
        "!pip install pymysql &> /dev/null"
      ],
      "metadata": {
        "id": "cDHlFRKwTDzU"
      },
      "execution_count": null,
      "outputs": []
    },
    {
      "cell_type": "code",
      "source": [
        "import pymysql\n",
        "from logging import exception"
      ],
      "metadata": {
        "id": "qP1GgP1cT6Gt"
      },
      "execution_count": null,
      "outputs": []
    },
    {
      "cell_type": "code",
      "source": [
        "from pymysql import cursors\n",
        "#через pymysql\n",
        "\n",
        "try:\n",
        "  connection = pymysql.connect(\n",
        "        host = \"localhost\",\n",
        "        port = 3306,\n",
        "        user = \"root\",\n",
        "        password = \"dasdwefew234\",\n",
        "        database = \"mango\",\n",
        "        cursorclass = pymysql.cursors.DictCursor\n",
        "  )\n",
        "  print(\"Подключено\")\n",
        "  print(\"^^^^^^^^^^^^^^^^^\")\n",
        "\n",
        "  try:\n",
        "    #создание таблицы\n",
        "    cursor = connection.cursor()\n",
        "    creat_table_query = \"CREATE TABLE NamePriceLink (id int AUTO_INCREMENT, name VARCHAR(255), price VARCHAR(255), link VARCHAR(255), PRIMARY KEY (id))\"\n",
        "    cursor.execute(creat_table_query)\n",
        "    print(\"Таблица создана\")\n",
        "    print(\"^^^^^^^^^^^^^^^^^\")\n",
        "\n",
        "    #добавление данных в таблицу\n",
        "    insert_query = \"INSERT INTO NamePriceLink (name, price, link) VALUES (%s, %s, %s)\"\n",
        "    cursor.executemany(insert_query, lst)\n",
        "    connection.commit()\n",
        "\n",
        "    #извлечение данных из таблицы\n",
        "    select_all_rows = \"SELECT * FROM NamePriceLink\"\n",
        "    cursor.execute(select_all_rows)\n",
        "\n",
        "    rows = cursor.fetchall()\n",
        "    for row in rows:\n",
        "      print(rows)\n",
        "  finally:\n",
        "    connection.close()\n",
        "    cursor.close()\n",
        "\n",
        "except Exception as ex:\n",
        "  print(\"Ошибочка: \", ex)"
      ],
      "metadata": {
        "colab": {
          "base_uri": "https://localhost:8080/"
        },
        "id": "3293BHF2HlC6",
        "outputId": "4f84fec8-fb2a-4269-8bbf-965699c06f21"
      },
      "execution_count": null,
      "outputs": [
        {
          "output_type": "stream",
          "name": "stdout",
          "text": [
            "Ошибочка:  (2003, \"Can't connect to MySQL server on 'localhost' ([Errno 99] Cannot assign requested address)\")\n"
          ]
        }
      ]
    },
    {
      "cell_type": "markdown",
      "source": [
        "###МУСОР"
      ],
      "metadata": {
        "id": "Hv66C6wtHLoI"
      }
    },
    {
      "cell_type": "code",
      "source": [
        "!pip install mysql-connector-python &> /dev/null\n",
        "import mysql.connector\n",
        "from mysql.connector import Error"
      ],
      "metadata": {
        "id": "dj-JyVsBQIMB"
      },
      "execution_count": null,
      "outputs": []
    },
    {
      "cell_type": "code",
      "source": [
        "#через mysql.connector\n",
        "\n",
        "#пытаемся подключится к mysql\n",
        "mydb = mysql.connector.connect(\n",
        "        host = \"localhost\",\n",
        "        user = \"root\",\n",
        "        passwd = \"dasdwefew234\",\n",
        "        database = \"mango\"\n",
        "    )\n",
        "\n",
        "mycursor = mydb.cursor()\n",
        "#mycursor.execute(\"CREATE DATABASE mango\") #создаём новую БД\n",
        "mycursor.execute(\"CREATE TABLE NamePriceLink (name VARCHAR(255), price VARCHAR(255), link VARCHAR(255))\") #создаём в mango таблицу со столбцами #если придётся чтобы было число price INTEGER(10)\n",
        "mycursor.execute(\"SHOW TABLE\") #вывод нам таблицы, вот прям щас, вот прям сюда\n",
        "for tb in mycursor:\n",
        "  print(tb)\n",
        "\n",
        "sqlFormula = \"INSERT INTO NamePriceLink (name, price, link) VALUES (%s, %s, %s)\" #тут прописано что мы хотим вставить какие то значения в табличку\n",
        "mycursor.executemany(sqlFormula, lst) #связывем значение с тем что мы хотим вставить\n",
        "mydb.commid() #грубо говоря сохраняем значения\n",
        "\n",
        "\n",
        "#чтение из БД\n",
        "mycursor.execute(\"SELECT * FROM NamePriceLink\") #вместо * можно прописывать название столбцов, и тогда будут выводится только они\n",
        "myresult = mycursor.fetchall()\n",
        "for row in myresult:\n",
        "  print(row)"
      ],
      "metadata": {
        "id": "nf3gPSQ3W_Eg"
      },
      "execution_count": null,
      "outputs": []
    },
    {
      "cell_type": "code",
      "source": [
        "host = \"localhost\"\n",
        "user = \"root\"\n",
        "password = \"dasdwefew234\"\n",
        "db_name = \"mango\"\n",
        "\n",
        "def create_connection_mysql_db(db_host, user_name, user_password, db_name=None):\n",
        "  connection_db = None\n",
        "  try:\n",
        "    connection_db = mysql.connector.connect(\n",
        "        host = db_host,\n",
        "        user = user_name,\n",
        "        password = user_password,\n",
        "        database = db_name\n",
        "    )\n",
        "    print(\"Подключение установлено\")\n",
        "  except Error as db_connection_error:\n",
        "    print(\"Ошибочка: \", db_connection_error)\n",
        "  return connection_db\n",
        "\n",
        "conn = create_connection_mysql_db(host, user, password, db_name)\n",
        "\n",
        "cursor = conn.cursor()\n",
        "create_db_sql_query = f\"CREATE DATABASE {'mango'}\"\n",
        "cursor.execute(create_db_sql_query)\n",
        "cursor.close\n",
        "conn.close()\n"
      ],
      "metadata": {
        "id": "K8wJ1rvmTfQN"
      },
      "execution_count": null,
      "outputs": []
    },
    {
      "cell_type": "code",
      "source": [
        "\n",
        "\n",
        "for page in range(1,3):\n",
        "  url = f'https://www.dns-shop.ru/catalog/17a8a01d16404e77/smartfony/?order=2&groupBy=avails&stock=now-today-tomorrow-later&p={page}'\n",
        "\n",
        "  wd = webdriver.Chrome('chromedriver', options=options)\n",
        "  wd.get(url)\n",
        "\n",
        "  names_raw = wd.find_elements(By.CSS_SELECTOR, \"a.catalog-product__name\")\n",
        "  names = [name.text for name in names_raw]\n",
        "  prices_raw = wd.find_elements(By.CSS_SELECTOR, \"div.product-buy__price\")\n",
        "  prices = [price.text for price in prices_raw]\n",
        "  links_raw = wd.find_elements(By.CSS_SELECTOR, \"a.catalog-product__name\")\n",
        "  links = [link.get_attribute(\"href\") for link in links_raw]\n",
        "  print(links, '\\n', names,\"\\n\" , prices)\n",
        ""
      ],
      "metadata": {
        "id": "1yUYXOxP7ygv"
      },
      "execution_count": null,
      "outputs": []
    },
    {
      "cell_type": "code",
      "source": [
        "wd = webdriver.Chrome('chromedriver', options=options)\n",
        "\n",
        "for page in range(1, 3):\n",
        "        url = f\"https://www.dns-shop.ru/catalog/17a8a01d16404e77/smartfony/?from_search=1&order=2&groupBy=avails&stock=now-today-tomorrow-later-out_of_stock&p={page}\"\n",
        "        wd.get(url)\n",
        "\n",
        "        # Извлекаем все блоки со страницы\n",
        "        blocks = wd.find_element(By.CLASS_NAME, \"catalog-products\")\n",
        "        posts = blocks.find_elements(By.TAG_NAME, \"div\")\n",
        "\n",
        "        for post in posts:\n",
        "                name = post.find_element(By.CSS_SELECTOR, \"a.catalog-product__name\").text\n",
        "                title_link = post.find_element(By.CSS_SELECTOR, \"a.catalog-product__name\").get_attribute(\"href\")\n",
        "                price = post.find_element(By.CLASS_NAME, \"product-buy\").find_element(By.CLASS_NAME, \"product-buy__price-wrap\").find_element(By.CLASS_NAME, \"product-buy__price\").text\n",
        "                print(name, '\\n', title_link, '\\n', price)"
      ],
      "metadata": {
        "id": "vdcQj74_x6VM"
      },
      "execution_count": null,
      "outputs": []
    }
  ]
}